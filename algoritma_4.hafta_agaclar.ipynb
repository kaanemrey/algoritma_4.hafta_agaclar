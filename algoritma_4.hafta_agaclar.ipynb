{
 "cells": [
  {
   "cell_type": "code",
   "execution_count": 39,
   "id": "c068cd14-78ca-4ffd-a87c-6c663e65e97e",
   "metadata": {},
   "outputs": [
    {
     "ename": "IndentationError",
     "evalue": "expected an indented block after 'else' statement on line 29 (955459322.py, line 30)",
     "output_type": "error",
     "traceback": [
      "\u001b[0;36m  Cell \u001b[0;32mIn[39], line 30\u001b[0;36m\u001b[0m\n\u001b[0;31m    current=current.right_child\u001b[0m\n\u001b[0m    ^\u001b[0m\n\u001b[0;31mIndentationError\u001b[0m\u001b[0;31m:\u001b[0m expected an indented block after 'else' statement on line 29\n"
     ]
    }
   ],
   "source": [
    "class Node:\n",
    "    def __init__(self, data):\n",
    "        self.data = data\n",
    "        self.right_child = None\n",
    "        self.left_child = None\n",
    "        print(\"class çalıştı\")\n",
    "\n",
    "    def find_min(self):\n",
    "        current = self\n",
    "        while current.left_child:\n",
    "            current = current.left_child\n",
    "        return current  \n",
    "\n",
    "    def insert(self,data):\n",
    "        node=Node(data)\n",
    "        if self is None:\n",
    "            self=node\n",
    "        else:\n",
    "            current=self\n",
    "            parent=None\n",
    "            while True:\n",
    "                parent=current\n",
    "\n",
    "            if node.data<current.data:\n",
    "                current=current.left_child\n",
    "                if current is None:\n",
    "                    parent.left_child=node\n",
    "                    return\n",
    "            else:\n",
    "            current=current.right_child\n",
    "            if current is None:\n",
    "                parent.right_child=node\n",
    "                return\n",
    "\n",
    "n1 = Node(6)\n",
    "n2 = Node(3)\n",
    "n3 = Node(8)\n",
    "n4 = Node(2)\n",
    "n5 = Node(5)\n",
    "n6 = Node(7)\n",
    "n7 = Node(10)\n",
    "\n",
    "n1.left_child = n2\n",
    "n1.right_child = n3\n",
    "n2.left_child = n4\n",
    "n2.right_child = n5\n",
    "n3.left_child = n6\n",
    "n3.right_child = n7\n",
    "\n",
    "min_node = n1.find_min()\n",
    "print(\"En küçük değer:\", min_node.data) \n"
   ]
  },
  {
   "cell_type": "code",
   "execution_count": 41,
   "id": "c115b503-66a5-4920-a559-64996ce03cea",
   "metadata": {},
   "outputs": [
    {
     "name": "stdout",
     "output_type": "stream",
     "text": [
      "1\n"
     ]
    }
   ],
   "source": [
    "class Node:\n",
    " def __init__(self, data):\n",
    "   self.data=data\n",
    "   self.rightchild=None\n",
    "   self.leftchild=None\n",
    "     \n",
    " def findmin(self):\n",
    "   current=self\n",
    "   while current.leftchild:\n",
    "     current=current.leftchild\n",
    "   return current\n",
    "     \n",
    " def insert(self, data):\n",
    "   node=Node(data)\n",
    "   if self is None:\n",
    "     self=node\n",
    "   else:\n",
    "     current=self\n",
    "     parent=None\n",
    "       \n",
    "     while True:\n",
    "       parent=current\n",
    "       if node.data<current.data:\n",
    "         current=current.leftchild\n",
    "         if current is None:\n",
    "           parent.leftchild=node\n",
    "           return\n",
    "       else:\n",
    "         current=current.rightchild\n",
    "         if current is None:\n",
    "           parent.rightchild=node\n",
    "           return\n",
    "\n",
    "n1=Node(6)\n",
    "n2=Node(3)\n",
    "n3=Node(8)\n",
    "n4=Node(2)\n",
    "n5=Node(5)\n",
    "n6=Node(7)\n",
    "n7=Node(10)\n",
    "\n",
    "n1.leftchild=n2\n",
    "n1.rightchild=n3\n",
    "n2.leftchild=n4\n",
    "n2.rightchild=n5\n",
    "n3.leftchild=n6\n",
    "n3.rightchild=n7\n",
    "n1.insert(1)\n",
    "print(n1.findmin().data)"
   ]
  },
  {
   "cell_type": "code",
   "execution_count": null,
   "id": "c06a1e80-d524-4417-851e-b8ec1bcc7973",
   "metadata": {},
   "outputs": [],
   "source": []
  }
 ],
 "metadata": {
  "kernelspec": {
   "display_name": "Python 3 (ipykernel)",
   "language": "python",
   "name": "python3"
  },
  "language_info": {
   "codemirror_mode": {
    "name": "ipython",
    "version": 3
   },
   "file_extension": ".py",
   "mimetype": "text/x-python",
   "name": "python",
   "nbconvert_exporter": "python",
   "pygments_lexer": "ipython3",
   "version": "3.12.4"
  }
 },
 "nbformat": 4,
 "nbformat_minor": 5
}
