class Node:
    def __init__(self, data):
        self.data = data
        self.rightchild = None
        self.leftchild = None

    def findmin(self):
        current = self
        while current.leftchild:
            current = current.leftchild
        return current

    def insert(self, data):
        node = Node(data)
        if self is None:
            self = node
        else:
            current = self
            parent = None
            while True:
                parent = current
                if node.data < current.data:
                    current = current.leftchild
                    if current is None:
                        parent.leftchild = node
                        return
                else:
                    current = current.rightchild
                    if current is None:
                        parent.rightchild = node
                        return
                        
    def get_node_with_parent(self, data):
        parent = None
        current = self
        if current is None:
            return (parent, None)
    
        while True:
            if current.data == data:
                return (parent, current)
            elif current.data > data:
                parent = current
                current = current.leftchild
            else:
                parent = current
                current = current.rightchild
            
            return (parent.data, current.data)


n1 = Node(6)
n2 = Node(3)
n3 = Node(8)
n4 = Node(2)
n5 = Node(5)
n6 = Node(7)
n7 = Node(10)

n1.leftchild = n2
n1.rightchild = n3
n2.leftchild = n4
n2.rightchild = n5
n3.leftchild = n6
n3.rightchild = n7

n1.insert(1)
print(n1.findmin().data)
print(n1.get_node_with_parent(10))
